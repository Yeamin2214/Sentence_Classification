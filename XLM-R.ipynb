{
  "nbformat": 4,
  "nbformat_minor": 0,
  "metadata": {
    "colab": {
      "provenance": [],
      "gpuType": "T4"
    },
    "kernelspec": {
      "name": "python3",
      "display_name": "Python 3"
    },
    "language_info": {
      "name": "python"
    },
    "accelerator": "GPU"
  },
  "cells": [
    {
      "cell_type": "markdown",
      "source": [
        "# **Data Overview and Splitting**"
      ],
      "metadata": {
        "id": "BOMCsnS_Qc14"
      }
    },
    {
      "cell_type": "code",
      "execution_count": null,
      "metadata": {
        "id": "3pNOhgOF3kK5",
        "colab": {
          "base_uri": "https://localhost:8080/"
        },
        "outputId": "9a68f514-eb0b-4615-acda-d8e2898ce06d"
      },
      "outputs": [
        {
          "output_type": "stream",
          "name": "stdout",
          "text": [
            "Total Samples: 12120\n",
            "Training Samples: 9696\n",
            "Testing Samples: 2424\n",
            "\n",
            "Training Set Sample:\n",
            "              id                                            premise  \\\n",
            "5289  4e5ad9e03a                               اب اتنا خفیہ تھا یہ.   \n",
            "6647  fea0d3c7e8                           oh  that's accommodating   \n",
            "1245  4ce586b61e  more than anything else in this day and age th...   \n",
            "4417  0dbcd1012b  Aie! les boucaniers en-dessous s'écriaient, et...   \n",
            "5662  157895e59c             一个采购战略组织，是壮大的力资本发展战略的一部分, 这是在原则VI上讨论的。   \n",
            "\n",
            "                                             hypothesis lang_abv language  \\\n",
            "5289                              یہ عوامی معلومات تھی۔       ur     Urdu   \n",
            "6647                                That is disruptive.       en  English   \n",
            "1245  In your decisions age is a big factor, and I a...       en  English   \n",
            "4417  Les Buccaneers étaient bruyants quand ils disa...       fr   French   \n",
            "5662                              原则四涉及财富500强机构的资本发展战略。       zh  Chinese   \n",
            "\n",
            "      label  \n",
            "5289      2  \n",
            "6647      2  \n",
            "1245      1  \n",
            "4417      0  \n",
            "5662      1  \n",
            "\n",
            "Test Set Sample:\n",
            "              id                                            premise  \\\n",
            "4960  f4891fa23f     Кто? Она спросила его с неожиданным интересом.   \n",
            "2088  e8b38c6175  Others are Zao (in Tohoku) and a number of res...   \n",
            "396   e0a29d673a  trying to keep grass alive during a summer on ...   \n",
            "6385  26222ec767  so i guess my experience is is just with what ...   \n",
            "2619  d0cf40f417  The Journal put the point succinctly to  Is an...   \n",
            "\n",
            "                                             hypothesis lang_abv language  \\\n",
            "4960  Она спросила, как это сделать, так как с её то...       ru  Russian   \n",
            "2088   There are a lot of resorts in the national park.       en  English   \n",
            "396   There was no cost in keeping the grass alive i...       en  English   \n",
            "6385  They were able to be home rather than having t...       en  English   \n",
            "2619  The Journal asked \"Is this a good political mo...       en  English   \n",
            "\n",
            "      label  \n",
            "4960      1  \n",
            "2088      0  \n",
            "396       2  \n",
            "6385      0  \n",
            "2619      1  \n"
          ]
        }
      ],
      "source": [
        "# Import necessary libraries\n",
        "import pandas as pd  # Data manipulation library\n",
        "from sklearn.model_selection import train_test_split  # For splitting dataset\n",
        "\n",
        "# Load dataset from CSV file\n",
        "file_path = \"/content/train.csv\"  # Update path if necessary\n",
        "df = pd.read_csv(file_path)  # Read dataset into a Pandas DataFrame\n",
        "\n",
        "# Check if dataset contains the required columns\n",
        "required_columns = {\"premise\", \"hypothesis\", \"label\"}  # Expected columns in dataset\n",
        "if not required_columns.issubset(df.columns):\n",
        "    raise ValueError(f\"Dataset must contain columns: {required_columns}\")\n",
        "\n",
        "# Split dataset into 80% training and 20% testing\n",
        "train_df, test_df = train_test_split(df, test_size=0.2, random_state=42)\n",
        "\n",
        "# Print dataset information\n",
        "print(f\"Total Samples: {len(df)}\")  # Print total number of samples in dataset\n",
        "print(f\"Training Samples: {len(train_df)}\")  # Print training set size\n",
        "print(f\"Testing Samples: {len(test_df)}\")  # Print test set size\n",
        "\n",
        "# Display first few rows of training set\n",
        "print(\"\\nTraining Set Sample:\")\n",
        "print(train_df.head())  # Show first few rows of training data\n",
        "\n",
        "# Display first few rows of testing set\n",
        "print(\"\\nTest Set Sample:\")\n",
        "print(test_df.head())  # Show first few rows of test data\n"
      ]
    },
    {
      "cell_type": "markdown",
      "source": [
        "# **Tokenizer and Padding**"
      ],
      "metadata": {
        "id": "8RZCzlPXQmfA"
      }
    },
    {
      "cell_type": "code",
      "source": [
        "# Import necessary libraries\n",
        "import torch  # PyTorch for tensor operations\n",
        "from torch.utils.data import Dataset  # PyTorch Dataset class\n",
        "\n",
        "# Define a PyTorch Dataset class for sentence classification\n",
        "class SentenceDataset(Dataset):\n",
        "    \"\"\"\n",
        "    A custom PyTorch Dataset class for handling text classification data.\n",
        "\n",
        "    This class:\n",
        "    - Tokenizes input text (premise and hypothesis) using a pre-trained tokenizer.\n",
        "    - Returns tokenized inputs along with attention masks and labels as tensors.\n",
        "\n",
        "    Parameters:\n",
        "        df (pd.DataFrame): The dataset containing 'premise', 'hypothesis', and 'label'.\n",
        "        tokenizer (PreTrainedTokenizer): The pre-trained tokenizer for encoding text.\n",
        "        max_length (int): Maximum sequence length for tokenization.\n",
        "\n",
        "    Returns:\n",
        "        dict: A dictionary containing:\n",
        "            - 'input_ids': Tokenized sentence representations.\n",
        "            - 'attention_mask': Attention mask indicating valid tokens.\n",
        "            - 'label': The class label as a tensor.\n",
        "    \"\"\"\n",
        "    def __init__(self, df, tokenizer, max_length=128):\n",
        "        self.df = df.reset_index(drop=True)  # Reset index to avoid issues\n",
        "        self.tokenizer = tokenizer  # Assign tokenizer\n",
        "        self.max_length = max_length  # Set max token length\n",
        "\n",
        "    def __len__(self):\n",
        "        \"\"\"Returns the total number of samples in the dataset.\"\"\"\n",
        "        return len(self.df)\n",
        "\n",
        "    def __getitem__(self, index):\n",
        "        \"\"\"\n",
        "        Retrieves and processes a single sample from the dataset at the given index.\n",
        "\n",
        "        Parameters:\n",
        "            index (int): The row index in the dataset.\n",
        "\n",
        "        Returns:\n",
        "            dict: A dictionary containing:\n",
        "                - 'input_ids': Encoded token IDs (Tensor)\n",
        "                - 'attention_mask': Mask indicating valid vs. padding tokens (Tensor)\n",
        "                - 'label': Corresponding class label (Tensor)\n",
        "        \"\"\"\n",
        "        row = self.df.iloc[index]  # Fetch the row at the given index\n",
        "\n",
        "        # Tokenize the input text (premise and hypothesis)\n",
        "        inputs = self.tokenizer(\n",
        "            row[\"premise\"],  # First input sentence (Premise)\n",
        "            row[\"hypothesis\"],  # Second input sentence (Hypothesis)\n",
        "            padding=\"max_length\",  # Ensures all sequences have equal length\n",
        "            truncation=True,  # Truncate if sequence exceeds max_length\n",
        "            max_length=self.max_length,  # Set maximum length for tokenization\n",
        "            return_tensors=\"pt\"  # Return as PyTorch tensors\n",
        "        )\n",
        "\n",
        "        # Extract tokenized outputs and remove batch dimension (squeeze)\n",
        "        input_ids = inputs[\"input_ids\"].squeeze(0)  # Convert [1, max_length] → [max_length]\n",
        "        attention_mask = inputs[\"attention_mask\"].squeeze(0)  # Convert [1, max_length] → [max_length]\n",
        "        label = torch.tensor(row[\"label\"], dtype=torch.long)  # Convert label to tensor (long type for classification)\n",
        "\n",
        "        # Return the processed sample\n",
        "        return {\n",
        "            \"input_ids\": input_ids,\n",
        "            \"attention_mask\": attention_mask,\n",
        "            \"label\": label\n",
        "        }\n",
        "\n",
        "# Print confirmation message\n",
        "print(\"SentenceDataset class has been successfully modified!\")\n"
      ],
      "metadata": {
        "colab": {
          "base_uri": "https://localhost:8080/"
        },
        "id": "qEuJUSZ3y8Hh",
        "outputId": "616697b6-83cf-4ea8-a2d1-5d45be8e63f6"
      },
      "execution_count": null,
      "outputs": [
        {
          "output_type": "stream",
          "name": "stdout",
          "text": [
            "SentenceDataset class has been successfully modified!\n"
          ]
        }
      ]
    },
    {
      "cell_type": "code",
      "source": [
        "# Ignore general warnings to keep output clean\n",
        "import warnings\n",
        "warnings.filterwarnings(\"ignore\")\n",
        "\n",
        "# Suppress tokenizer warnings from Hugging Face transformers library\n",
        "import logging\n",
        "logging.getLogger(\"transformers\").setLevel(logging.ERROR)\n",
        "\n",
        "# Import necessary libraries\n",
        "from torch.utils.data import DataLoader\n",
        "from transformers import XLMRobertaTokenizer  # Ensure tokenizer is available\n",
        "\n",
        "# Load XLM-RoBERTa tokenizer (suppressing Hugging Face warnings)\n",
        "tokenizer = XLMRobertaTokenizer.from_pretrained(\"xlm-roberta-base\")\n",
        "\n",
        "# Create PyTorch Dataset instances for training and testing\n",
        "train_dataset = SentenceDataset(train_df, tokenizer)\n",
        "test_dataset = SentenceDataset(test_df, tokenizer)\n",
        "\n",
        "# Create DataLoaders for batch processing\n",
        "train_loader = DataLoader(\n",
        "    train_dataset,  # Training dataset\n",
        "    batch_size=16,  # Define batch size (16 samples per batch)\n",
        "    shuffle=True,  # Shuffle the training data for randomness\n",
        "    num_workers=2  # Use multiple workers for faster data loading (set to 0 if using CPU)\n",
        ")\n",
        "\n",
        "test_loader = DataLoader(\n",
        "    test_dataset,  # Testing dataset\n",
        "    batch_size=16,  # Define batch size (same as training)\n",
        "    shuffle=False,  # No shuffling for test set (ensures consistency)\n",
        "    num_workers=2  # Use multiple workers for efficiency\n",
        ")\n",
        "\n",
        "# Print confirmation and check batch loading\n",
        "print(\"DataLoaders for training and testing created successfully!\")\n",
        "\n",
        "# Check the shape of one batch from the train_loader\n",
        "for batch in train_loader:\n",
        "    print(\"First batch loaded successfully!\")\n",
        "    print({key: val.shape for key, val in batch.items()})  # Print tensor shapes\n",
        "    break\n"
      ],
      "metadata": {
        "colab": {
          "base_uri": "https://localhost:8080/"
        },
        "id": "wTP6Eoq2zVTA",
        "outputId": "db89404a-0f85-45d9-eda5-7fce1851ebf4"
      },
      "execution_count": null,
      "outputs": [
        {
          "output_type": "stream",
          "name": "stdout",
          "text": [
            "DataLoaders for training and testing created successfully!\n",
            "First batch loaded successfully!\n",
            "{'input_ids': torch.Size([16, 128]), 'attention_mask': torch.Size([16, 128]), 'label': torch.Size([16])}\n"
          ]
        }
      ]
    },
    {
      "cell_type": "markdown",
      "source": [
        "# **Model Training**"
      ],
      "metadata": {
        "id": "A2TKyEGuQw2s"
      }
    },
    {
      "cell_type": "code",
      "source": [
        "# Ignore general warnings for cleaner output\n",
        "import warnings\n",
        "warnings.filterwarnings(\"ignore\")\n",
        "\n",
        "# Import necessary libraries\n",
        "import torch\n",
        "from tqdm import tqdm  # For displaying training progress\n",
        "\n",
        "# Define the training function\n",
        "def train_model(model, train_loader, test_loader, optimizer, loss_fn, device, epochs=5):\n",
        "    \"\"\"\n",
        "    Train and evaluate the model.\n",
        "\n",
        "    Parameters:\n",
        "        model (torch.nn.Module): The XLM-RoBERTa classification model.\n",
        "        train_loader (DataLoader): DataLoader for the training set.\n",
        "        test_loader (DataLoader): DataLoader for the test set.\n",
        "        optimizer (torch.optim.Optimizer): Optimizer for updating model weights.\n",
        "        loss_fn (torch.nn.Module): Loss function for classification.\n",
        "        device (torch.device): Device to run the training on (CPU/GPU).\n",
        "        epochs (int): Number of training epochs.\n",
        "\n",
        "    Prints:\n",
        "        - Training loss after each epoch\n",
        "        - Validation loss after each epoch\n",
        "    \"\"\"\n",
        "\n",
        "    model.train()  # Set model to training mode\n",
        "\n",
        "    for epoch in range(epochs):  # Iterate over epochs\n",
        "        total_train_loss = 0\n",
        "        loop = tqdm(train_loader, desc=f\"Epoch {epoch+1}/{epochs}\")  # Progress bar\n",
        "\n",
        "        for batch in loop:\n",
        "            optimizer.zero_grad()  # Clear previous gradients\n",
        "\n",
        "            # Move batch data to GPU/CPU\n",
        "            input_ids = batch[\"input_ids\"].to(device)\n",
        "            attention_mask = batch[\"attention_mask\"].to(device)\n",
        "            labels = batch[\"label\"].to(device)\n",
        "\n",
        "            # Forward pass\n",
        "            outputs = model(input_ids, attention_mask=attention_mask)\n",
        "            loss = loss_fn(outputs.logits, labels)\n",
        "\n",
        "            # Backward pass and weight update\n",
        "            loss.backward()\n",
        "            optimizer.step()\n",
        "\n",
        "            total_train_loss += loss.item()  # Track training loss\n",
        "            loop.set_postfix(loss=loss.item())  # Update progress bar with loss\n",
        "\n",
        "        avg_train_loss = total_train_loss / len(train_loader)  # Compute average training loss\n",
        "        print(f\"\\nEpoch {epoch+1} Training Loss: {avg_train_loss:.4f}\")\n",
        "\n",
        "        # Evaluate on the test set\n",
        "        evaluate_model(model, test_loader, device)\n",
        "\n",
        "    print(\"Training completed successfully!\")\n",
        "\n",
        "# Define the evaluation function\n",
        "def evaluate_model(model, data_loader, device):\n",
        "    \"\"\"\n",
        "    Evaluates the model on the test set and prints the validation loss.\n",
        "\n",
        "    Parameters:\n",
        "        model (torch.nn.Module): Trained model to evaluate.\n",
        "        data_loader (DataLoader): DataLoader for evaluation (test set).\n",
        "        device (torch.device): Device to run the evaluation on (CPU/GPU).\n",
        "    \"\"\"\n",
        "    model.eval()  # Set model to evaluation mode\n",
        "    total_val_loss = 0\n",
        "    loss_fn = torch.nn.CrossEntropyLoss()  # Define loss function for validation\n",
        "    predictions, true_labels = [], []\n",
        "\n",
        "    with torch.no_grad():  # Disable gradient calculation\n",
        "        for batch in data_loader:\n",
        "            input_ids = batch[\"input_ids\"].to(device)\n",
        "            attention_mask = batch[\"attention_mask\"].to(device)\n",
        "            labels = batch[\"label\"].to(device)\n",
        "\n",
        "            # Forward pass\n",
        "            outputs = model(input_ids, attention_mask=attention_mask)\n",
        "            loss = loss_fn(outputs.logits, labels)\n",
        "            total_val_loss += loss.item()\n",
        "\n",
        "            # Convert logits to predicted class\n",
        "            preds = torch.argmax(outputs.logits, dim=1).cpu().numpy()\n",
        "            labels = labels.cpu().numpy()\n",
        "\n",
        "            predictions.extend(preds)\n",
        "            true_labels.extend(labels)\n",
        "\n",
        "    avg_val_loss = total_val_loss / len(data_loader)  # Compute average validation loss\n",
        "    print(f\"Validation Loss: {avg_val_loss:.4f}\")\n",
        "\n",
        "# Load Pretrained XLM-R Model (3-class classification)\n",
        "from transformers import XLMRobertaForSequenceClassification, AdamW\n",
        "\n",
        "model = XLMRobertaForSequenceClassification.from_pretrained(\"xlm-roberta-base\", num_labels=3)\n",
        "\n",
        "# Move model to GPU (if available)\n",
        "device = torch.device(\"cuda\" if torch.cuda.is_available() else \"cpu\")\n",
        "model.to(device)\n",
        "\n",
        "# Define Optimizer\n",
        "optimizer = torch.optim.AdamW(model.parameters(), lr=1e-5, eps=1e-8)\n",
        "\n",
        "# Define Loss Function\n",
        "loss_fn = torch.nn.CrossEntropyLoss()\n",
        "\n",
        "# Print model info\n",
        "print(f\"Model successfully loaded on {device}!\")\n",
        "\n",
        "# Train model for 3 epochs\n",
        "train_model(model, train_loader, test_loader, optimizer, loss_fn, device, epochs=5)\n"
      ],
      "metadata": {
        "colab": {
          "base_uri": "https://localhost:8080/"
        },
        "id": "FUtOeT_T0GLA",
        "outputId": "10afc1af-e2b2-43c6-b017-e4de2056b3a7"
      },
      "execution_count": null,
      "outputs": [
        {
          "output_type": "stream",
          "name": "stdout",
          "text": [
            "Model successfully loaded on cuda!\n"
          ]
        },
        {
          "output_type": "stream",
          "name": "stderr",
          "text": [
            "Epoch 1/5: 100%|██████████| 606/606 [03:58<00:00,  2.54it/s, loss=0.914]"
          ]
        },
        {
          "output_type": "stream",
          "name": "stdout",
          "text": [
            "\n",
            "Epoch 1 Training Loss: 1.0660\n"
          ]
        },
        {
          "output_type": "stream",
          "name": "stderr",
          "text": [
            "\n"
          ]
        },
        {
          "output_type": "stream",
          "name": "stdout",
          "text": [
            "Validation Loss: 0.9641\n"
          ]
        },
        {
          "output_type": "stream",
          "name": "stderr",
          "text": [
            "Epoch 2/5: 100%|██████████| 606/606 [03:50<00:00,  2.63it/s, loss=0.537]"
          ]
        },
        {
          "output_type": "stream",
          "name": "stdout",
          "text": [
            "\n",
            "Epoch 2 Training Loss: 0.7453\n"
          ]
        },
        {
          "output_type": "stream",
          "name": "stderr",
          "text": [
            "\n"
          ]
        },
        {
          "output_type": "stream",
          "name": "stdout",
          "text": [
            "Validation Loss: 0.7152\n"
          ]
        },
        {
          "output_type": "stream",
          "name": "stderr",
          "text": [
            "Epoch 3/5: 100%|██████████| 606/606 [03:50<00:00,  2.63it/s, loss=0.136]"
          ]
        },
        {
          "output_type": "stream",
          "name": "stdout",
          "text": [
            "\n",
            "Epoch 3 Training Loss: 0.4361\n"
          ]
        },
        {
          "output_type": "stream",
          "name": "stderr",
          "text": [
            "\n"
          ]
        },
        {
          "output_type": "stream",
          "name": "stdout",
          "text": [
            "Validation Loss: 0.7624\n"
          ]
        },
        {
          "output_type": "stream",
          "name": "stderr",
          "text": [
            "Epoch 4/5: 100%|██████████| 606/606 [03:50<00:00,  2.63it/s, loss=0.217]"
          ]
        },
        {
          "output_type": "stream",
          "name": "stdout",
          "text": [
            "\n",
            "Epoch 4 Training Loss: 0.1912\n"
          ]
        },
        {
          "output_type": "stream",
          "name": "stderr",
          "text": [
            "\n"
          ]
        },
        {
          "output_type": "stream",
          "name": "stdout",
          "text": [
            "Validation Loss: 0.9028\n"
          ]
        },
        {
          "output_type": "stream",
          "name": "stderr",
          "text": [
            "Epoch 5/5: 100%|██████████| 606/606 [03:50<00:00,  2.63it/s, loss=0.0196]"
          ]
        },
        {
          "output_type": "stream",
          "name": "stdout",
          "text": [
            "\n",
            "Epoch 5 Training Loss: 0.0791\n"
          ]
        },
        {
          "output_type": "stream",
          "name": "stderr",
          "text": [
            "\n"
          ]
        },
        {
          "output_type": "stream",
          "name": "stdout",
          "text": [
            "Validation Loss: 1.2044\n",
            "Training completed successfully!\n"
          ]
        }
      ]
    },
    {
      "cell_type": "markdown",
      "source": [
        "# **Model Evaluation**"
      ],
      "metadata": {
        "id": "ye5WusPaQ1Cz"
      }
    },
    {
      "cell_type": "code",
      "source": [
        "# Import necessary library for evaluation metrics\n",
        "from sklearn.metrics import classification_report\n",
        "\n",
        "# Define a function to evaluate the trained model on test data\n",
        "def test_model_performance(model, data_loader, device):\n",
        "    \"\"\"\n",
        "    Evaluates the trained model and prints Precision, Recall, and F1-score.\n",
        "\n",
        "    Parameters:\n",
        "        model (torch.nn.Module): Trained classification model.\n",
        "        data_loader (DataLoader): DataLoader for test set.\n",
        "        device (torch.device): CPU or GPU device.\n",
        "\n",
        "    Prints:\n",
        "        - Classification report (Precision, Recall, F1-score)\n",
        "    \"\"\"\n",
        "\n",
        "    model.eval()  # Set model to evaluation mode\n",
        "    predictions, true_labels = [], []\n",
        "\n",
        "    with torch.no_grad():  # Disable gradient calculations\n",
        "        for batch in data_loader:\n",
        "            input_ids = batch[\"input_ids\"].to(device)\n",
        "            attention_mask = batch[\"attention_mask\"].to(device)\n",
        "            labels = batch[\"label\"].to(device)\n",
        "\n",
        "            # Forward pass\n",
        "            outputs = model(input_ids, attention_mask=attention_mask)\n",
        "            logits = outputs.logits  # Extract logits\n",
        "\n",
        "            # Convert logits to predicted class labels\n",
        "            preds = torch.argmax(logits, dim=1).cpu().numpy()\n",
        "            labels = labels.cpu().numpy()\n",
        "\n",
        "            predictions.extend(preds)\n",
        "            true_labels.extend(labels)\n",
        "\n",
        "    # Print classification report\n",
        "    print(\"\\nModel Performance on Test Set:\")\n",
        "    print(classification_report(true_labels, predictions, digits=4))\n",
        "\n",
        "# Run the evaluation on test data\n",
        "test_model_performance(model, test_loader, device)\n"
      ],
      "metadata": {
        "colab": {
          "base_uri": "https://localhost:8080/"
        },
        "id": "hogpe0jl3NuK",
        "outputId": "7117805b-9482-412b-cc04-7942a9d28fc3"
      },
      "execution_count": null,
      "outputs": [
        {
          "output_type": "stream",
          "name": "stdout",
          "text": [
            "\n",
            "Model Performance on Test Set:\n",
            "              precision    recall  f1-score   support\n",
            "\n",
            "           0     0.7035    0.7109    0.7072       851\n",
            "           1     0.6407    0.6481    0.6444       773\n",
            "           2     0.7289    0.7125    0.7206       800\n",
            "\n",
            "    accuracy                         0.6914      2424\n",
            "   macro avg     0.6910    0.6905    0.6907      2424\n",
            "weighted avg     0.6918    0.6914    0.6916      2424\n",
            "\n"
          ]
        }
      ]
    },
    {
      "cell_type": "code",
      "source": [
        "# Import required libraries\n",
        "import numpy as np\n",
        "from sklearn.metrics import confusion_matrix, roc_curve, auc\n",
        "import seaborn as sns\n",
        "import matplotlib.pyplot as plt\n",
        "\n",
        "# Recompute true labels and predictions\n",
        "def get_predictions(model, data_loader, device):\n",
        "    \"\"\"\n",
        "    Extracts model predictions and true labels from the test set.\n",
        "\n",
        "    Returns:\n",
        "        true_labels (list): List of actual labels.\n",
        "        predictions (list): List of predicted labels.\n",
        "        logits (numpy array): Raw model output scores before softmax.\n",
        "    \"\"\"\n",
        "    model.eval()  # Set model to evaluation mode\n",
        "    true_labels, predictions, logits = [], [], []\n",
        "\n",
        "    with torch.no_grad():  # Disable gradient calculations\n",
        "        for batch in data_loader:\n",
        "            input_ids = batch[\"input_ids\"].to(device)\n",
        "            attention_mask = batch[\"attention_mask\"].to(device)\n",
        "            labels = batch[\"label\"].to(device)\n",
        "\n",
        "            outputs = model(input_ids, attention_mask=attention_mask)\n",
        "            logit_values = outputs.logits.cpu().numpy()  # Convert logits to numpy\n",
        "            preds = np.argmax(logit_values, axis=1)  # Get predicted class\n",
        "\n",
        "            true_labels.extend(labels.cpu().numpy())\n",
        "            predictions.extend(preds)\n",
        "            logits.extend(logit_values)\n",
        "\n",
        "    return np.array(true_labels), np.array(predictions), np.array(logits)\n",
        "\n",
        "# Compute values\n",
        "true_labels, predictions, logits = get_predictions(model, test_loader, device)\n",
        "\n",
        "print(\"Predictions and true labels extracted successfully!\")\n"
      ],
      "metadata": {
        "colab": {
          "base_uri": "https://localhost:8080/"
        },
        "id": "JZ4FAots-ZN3",
        "outputId": "8134030f-891b-42c6-aa37-109f838fa81d"
      },
      "execution_count": null,
      "outputs": [
        {
          "output_type": "stream",
          "name": "stdout",
          "text": [
            "Predictions and true labels extracted successfully!\n"
          ]
        }
      ]
    },
    {
      "cell_type": "markdown",
      "source": [
        "# **Confuse Matrix and AUC-ROC Curve**"
      ],
      "metadata": {
        "id": "mEyFN17HQ7PL"
      }
    },
    {
      "cell_type": "code",
      "source": [
        "# Function to plot confusion matrix\n",
        "def plot_confusion_matrix(true_labels, predictions, class_names):\n",
        "    \"\"\"\n",
        "    Plots a Confusion Matrix to analyze misclassifications.\n",
        "    \"\"\"\n",
        "    cm = confusion_matrix(true_labels, predictions)\n",
        "\n",
        "    plt.figure(figsize=(6, 5))\n",
        "    sns.heatmap(cm, annot=True, fmt=\"d\", cmap=\"Blues\", xticklabels=class_names, yticklabels=class_names)\n",
        "    plt.xlabel(\"Predicted Label\")\n",
        "    plt.ylabel(\"True Label\")\n",
        "    plt.title(\"Confusion Matrix\")\n",
        "    plt.show()\n",
        "\n",
        "# Define class names (modify if necessary)\n",
        "class_names = [\"Class 0\", \"Class 1\", \"Class 2\"]\n",
        "\n",
        "# Call function to plot confusion matrix\n",
        "plot_confusion_matrix(true_labels, predictions, class_names)\n"
      ],
      "metadata": {
        "colab": {
          "base_uri": "https://localhost:8080/",
          "height": 487
        },
        "id": "-g5PXulq-tDE",
        "outputId": "16ec5bac-cab4-4018-d288-55eea50b2ae8"
      },
      "execution_count": null,
      "outputs": [
        {
          "output_type": "display_data",
          "data": {
            "text/plain": [
              "<Figure size 600x500 with 2 Axes>"
            ],
            "image/png": "[encoded data removed]"
          },
          "metadata": {}
        }
      ]
    },
    {
      "cell_type": "code",
      "source": [
        "# Function to plot AUC-ROC Curve\n",
        "def plot_auc_roc_curve(true_labels, logits, num_classes):\n",
        "    \"\"\"\n",
        "    Plots the AUC-ROC curve for multi-class classification.\n",
        "\n",
        "    Parameters:\n",
        "        true_labels (list): True class labels.\n",
        "        logits (numpy array): Raw model output scores before softmax.\n",
        "        num_classes (int): Number of classes in classification.\n",
        "    \"\"\"\n",
        "    plt.figure(figsize=(8, 6))\n",
        "\n",
        "    # Convert true labels to one-hot encoding\n",
        "    true_labels_one_hot = np.eye(num_classes)[true_labels]\n",
        "\n",
        "    # Compute ROC curve and AUC for each class\n",
        "    for i in range(num_classes):\n",
        "        fpr, tpr, _ = roc_curve(true_labels_one_hot[:, i], logits[:, i])\n",
        "        roc_auc = auc(fpr, tpr)\n",
        "        plt.plot(fpr, tpr, label=f'Class {i} (AUC = {roc_auc:.2f})')\n",
        "\n",
        "    plt.plot([0, 1], [0, 1], \"k--\")  # Random chance line\n",
        "    plt.xlim([0.0, 1.0])\n",
        "    plt.ylim([0.0, 1.05])\n",
        "    plt.xlabel(\"False Positive Rate\")\n",
        "    plt.ylabel(\"True Positive Rate\")\n",
        "    plt.title(\"AUC-ROC Curve\")\n",
        "    plt.legend(loc=\"lower right\")\n",
        "    plt.show()\n",
        "\n",
        "# Call function to plot AUC-ROC\n",
        "plot_auc_roc_curve(true_labels, logits, num_classes=3)\n"
      ],
      "metadata": {
        "colab": {
          "base_uri": "https://localhost:8080/",
          "height": 564
        },
        "id": "aq6DBca0-8J9",
        "outputId": "39923fbb-54e2-4d98-f8e0-44de3d91fb91"
      },
      "execution_count": null,
      "outputs": [
        {
          "output_type": "display_data",
          "data": {
            "text/plain": [
              "<Figure size 800x600 with 1 Axes>"
            ],
            "image/png": "[encoded data removed]"
          },
          "metadata": {}
        }
      ]
    }
  ]
}